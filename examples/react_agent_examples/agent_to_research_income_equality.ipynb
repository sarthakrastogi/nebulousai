{
 "cells": [
  {
   "cell_type": "markdown",
   "metadata": {},
   "source": [
    "<a target=\"_blank\" href=\"https://colab.research.google.com/github/sarthakrastogi/nebulousai/blob/main/examples/react_agent_examples/agent_to_research_income_equality.ipynb\">\n",
    "  <img src=\"https://colab.research.google.com/assets/colab-badge.svg\" alt=\"Open In Colab\"/>\n",
    "</a>"
   ]
  },
  {
   "cell_type": "code",
   "execution_count": 1,
   "metadata": {},
   "outputs": [],
   "source": [
    "from nebulousai.core.brain import Brain\n",
    "from nebulousai.agent import ReActAgent\n",
    "from nebulousai.core.memory import LongTermMemory"
   ]
  },
  {
   "cell_type": "code",
   "execution_count": 4,
   "metadata": {},
   "outputs": [],
   "source": [
    "\n",
    "GIVEN_TASK = \"How has income equality changed in india in the last 10 years?\"\n",
    "brain = Brain(brain_system_prompt=\"Search the web and visit relevant pages to answer the user's questions. Support your answer with relevant statistics you find.\")\n",
    "\n",
    "agent = ReActAgent(brain=brain,\n",
    "                   task=GIVEN_TASK,\n",
    "                   max_iterations=3,\n",
    "                   long_term_memory=LongTermMemory())\n",
    "\n",
    "result = agent.act()"
   ]
  },
  {
   "cell_type": "code",
   "execution_count": 6,
   "metadata": {},
   "outputs": [
    {
     "name": "stdout",
     "output_type": "stream",
     "text": [
      "Based on the information gathered from the AI agent's search iterations, it can be concluded that income equality in India has shown some changes over the last 10 years. Here are some key points:\n",
      "\n",
      "1. **Decline in Gini Coefficient**: The Gini coefficient, a measure of income inequality, has decreased from 0.472 in 2014-15 to 0.402 in 2022-23, indicating a nearly 15% reduction in income inequality over this period.\n",
      "\n",
      "2. **Wealth Concentration**: Despite the reduction in income inequality, there is a concentration of wealth among the top percentile of the population. For example, the top 1% of the population owned 22.6% of income and 40.1% of wealth in 2022-23, indicating a disparity in wealth distribution.\n",
      "\n",
      "3. **Increasing Wealth Disparities**: Reports mention that the top 10% of the population in India holds more than 60% of the total wealth, while the bottom 50% only shares around 6% of the wealth. This indicates a significant increase in wealth inequality over the past few decades.\n",
      "\n",
      "4. **Income Share Disparities**: The top 10% income share has been increasing substantially over the last three decades, reaching close to 60% in recent years. In contrast, the bottom 50% of the population received only 15% of the national income in 2022-23.\n",
      "\n",
      "Overall, while there has been a reduction in the Gini coefficient, indicating some improvement in income equality, there are clear disparities in wealth distribution and income share in India. Wealth concentration among the top percentile of the population remains a significant challenge in the country.\n",
      "\n",
      "For a comprehensive understanding of income equality changes in India, it would be advisable to explore more recent and detailed data from various reliable sources or reports beyond the provided insights.\n"
     ]
    }
   ],
   "source": [
    "\n",
    "print(result)"
   ]
  },
  {
   "cell_type": "code",
   "execution_count": null,
   "metadata": {},
   "outputs": [],
   "source": []
  }
 ],
 "metadata": {
  "kernelspec": {
   "display_name": "base",
   "language": "python",
   "name": "python3"
  },
  "language_info": {
   "codemirror_mode": {
    "name": "ipython",
    "version": 3
   },
   "file_extension": ".py",
   "mimetype": "text/x-python",
   "name": "python",
   "nbconvert_exporter": "python",
   "pygments_lexer": "ipython3",
   "version": "3.10.9"
  }
 },
 "nbformat": 4,
 "nbformat_minor": 2
}
