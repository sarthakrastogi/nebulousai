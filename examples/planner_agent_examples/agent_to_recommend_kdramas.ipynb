{
 "cells": [
  {
   "cell_type": "code",
   "execution_count": 1,
   "metadata": {},
   "outputs": [],
   "source": [
    "from nebulous.core.ability import Ability\n",
    "from nebulous.core.brain import Brain\n",
    "from nebulous.core.planning import Planner\n",
    "from nebulous.core.short_term_memory import ShortTermMemory\n",
    "\n",
    "from nebulous.agent import PlannerAgent\n",
    "from nebulous.all_abilities import *"
   ]
  },
  {
   "cell_type": "code",
   "execution_count": 2,
   "metadata": {},
   "outputs": [],
   "source": [
    "GIVEN_TASK = \"hey can you recommend me some kdramas that came out in april 2024. filter out any shows that might have graphic violence.\""
   ]
  },
  {
   "cell_type": "code",
   "execution_count": 3,
   "metadata": {},
   "outputs": [],
   "source": [
    "brain_system_prompt = \"\"\"Browse the web to answer the user's questions.\"\"\"\n",
    "brain = Brain(brain_system_prompt=brain_system_prompt)\n",
    "planner = Planner(agent_goal=GIVEN_TASK)"
   ]
  },
  {
   "cell_type": "code",
   "execution_count": 4,
   "metadata": {},
   "outputs": [
    {
     "name": "stdout",
     "output_type": "stream",
     "text": [
      "Web Search, to search for \"kdramas released in April 2024\", \n",
      "Expected output: List of search results containing information about kdramas released in April 2024.\n",
      "Get Webpage Content, to retrieve the content of a relevant search result URL that lists kdramas released in April 2024,\n",
      "Input: URL of a relevant search result,\n",
      "Expected output: Full text containing the list of kdramas released in April 2024.\n",
      "Reason, to filter out any kdramas with graphic violence from the list obtained in\n",
      "Performed web_search_ddg with args {'search_term': 'kdramas released in April 2024'}.\n",
      "Result: [{'title': '11 New K-Dramas To Add To Your Watch List In April 2024', 'href': 'https://www.soompi.com/article/1652796wpp/11-new-k-dramas-to-add-to-your-watch-list-in-april-2024', 'body': 'Share it on. Spring is here with another batch of new K-dramas to tune into! These are some new K-dramas premiering in April: \"Love Is Like a Cat\" Korean Title: \"사랑은 고양이처럼\" Cast ...'}, {'title': 'APRIL 2024 | Korean Drama Full List - KORB', 'href': 'https://korean-binge.com/2024/02/24/april-2024-korean-drama-full-list/', 'body': 'APRIL 8 | Lovely Runner. Genre: Romance, Fantasy, Time-travel Also known as: Runaway With Sun-jae On Piggyback; Carry Sun Jae And Run Synopsis: A top star dies in a tragic accident and a grieving fan travels 15 years into the past to change the course of events and try to save him. Based on: the webtoon, \"Tomorrow\\'s Best\" by Kim Bbang. No. of episodes: 16'}, {'title': 'New K-Dramas on Netflix in April 2024', 'href': 'https://www.whats-on-netflix.com/coming-soon/new-k-dramas-on-netflix-in-april-2024/', 'body': \"Netflix has a busy lineup of South Korean content in 2024. However, April is one of the quieter months for new content. That being said, the release of Parasyte: The Grey in April could be one of the biggest Korean releases on Netflix this year.. In case you missed them, we've also kept track of the latest K-drama releases in March 2024.We're also tracking all the new K-dramas coming in ...\"}, {'title': 'Upcoming K-dramas to Watch in April 2024 - The Review Geek', 'href': 'https://www.thereviewgeek.com/upcoming-kdramas-april2024/', 'body': 'Goodbye Earth. Release Date: 26th April. Lead Cast: Ahn Eun-jin, Yoo Ah-in, Kim Yoon-hye, Seo Ye-hwa. Network: Netflix. Plot: An adaptation of the novel The Fool At the End of the World by Kōtarō Isaka, this dystopian thriller turns the tables of the genre by taking place before the apocalypse has occurred.'}, {'title': 'Best new K-dramas in April 2024 to add to your watch list', 'href': 'https://www.lifestyleasia.com/sg/entertainment/streaming/k-dramas-releasing-in-april-2024-parasyte-the-grey-blood-free-missing-crown-prince/', 'body': 'Not to forget the Disney+ original Blood Free, which stars popular K-actors Ju Ji-hoon and Han Hyo-joo in leading roles. One of the best suspense thriller K-dramas to release in April 2024, Blood Free is penned by Forest Of Secrets fame writer Lee Soo-yeon. The series will also star A Killer Paradox star Lee Hee-joon in a supporting role.'}]\n",
      "Performed get_webpage_content with args {'url': 'https://www.soompi.com/article/1652796wpp/11-new-k-dramas-to-add-to-your-watch-list-in-april-2024'}.\n",
      "Result: 11 New K-Dramas To Add To Your Watch List In April 2024\n",
      "11 New K-Dramas To Add To Your Watch List In April 2024 11 New K-Dramas To Add To Your Watch List In April 2024 - Soompi EXPLORE Latest Trending Popular Breaking MV/Teaser Drama Culture Exclusives Forums Viki Quiz Video Celeb Style TV/FILM Music Features Getting results... See All Log in to Soompi and start engaging! Log in with Google Log in with Apple By creating an account, you agree with Soompi’s Terms of Use and Privacy Policy . Soompi is part of Rakuten Viki family. Please agree with our terms before creating the account. 11 New K-Dramas To Add To Your Watch List In April 2024 Drama Apr 04, 2024 by D Kim Spring is here with another batch of new K-dramas to tune into! These are some new K-dramas premiering in April: “ Love Is Like a Cat ” Korean Title: “사랑은 고양이처럼” Cast: Mew Suppasit Jongcheveevat , JM , Kim Kyoung Seok , Lee Geon U Premiere Date: April 1 Broadcast Details: Mondays at 6 p.m. KST, available on Viki A Korean-Thai collaboration, “Love Is Like a Cat” is a BL drama about global superstar Piuno (Mew Suppasit Jongcheveevat) who works at a pet daycare to save his reputation and begins working with the daycare’s director Daebyeol (JM). Watch “Love Is Like a Cat”: Watch Now “Parasyte: The Grey” Korean Title: “기생수: 더 그레이” Cast: Jeon So Nee , Goo Kyo Hwan , Lee Jung Hyun , Kwon Hae Hyo , Kim In Kwon Premiere Date: April 5 Broadcast Details: all episodes released simultaneously at 4 p.m. KST on Netflix Based on the universe of the legendary manga series “Parasyte” by Hitoshi Iwaaki, “Parasyte: The Grey” follows the events that unfold when mysterious parasitic life-forms fall to Earth from outer space and attempt to gain power by living off of human hosts. “ Lovely Runner ” Korean Title: “선재 업고 튀어” Cast: Byun Woo Seok , Kim Hye Yoon , Song Geon Hee , Lee Seung Hyub Premiere Date: April 8 Broadcast Details: Mondays and Tuesdays at 8:50 p.m. KST on tvN, available on Viki Based on a popular web novel, “Lovely Runner” is a time-slip romance drama that unfolds as Im Sol (Kim Hye Yoon), a passionate fan devastated by the death of her favorite star Ryu Sun Jae (Byun Woo Seok), goes back in time to save him. Watch “Lovely Runner”: Watch Now “Reunion Counseling” Korean Title: “매일 재회해 드립니다” Cast: Lee Jung Joon , Choi Hyo Zu, Kim Won Shik, Kassy Premiere Date: April 9 Broadcast Details: Tuesdays at 6:30 p.m. KST on KBS Joy’s YouTube “Reunion Counseling” is a rom-com about Choi Do Wan (Lee Jung Joon) who launches an app for reunion counseling as he reunites with his ex-girlfriend Kang Eun Gyo (Choi Hyo Zu), who uses his service to find her current boyfriend Jun Woo (Kim Won Shik) who has disappeared. “Blood Free” Korean Title: “지배종” Cast: Joo Ji Hoon , Han Hyo Joo , Lee Hee Joon , Lee Moo Saeng , Park Ji Yeon Premiere Date: April 10 Broadcast Details: Wednesdays on Disney+ “Blood Free” is a suspense thriller about Yoon Ja Yoo (Han Hyo Joo), the CEO of the genetic engineering enterprise BF, and Woo Chae Woon (Joo Ji Hoon), a retired officer-turned-guard who deliberately approaches her, as they get swept up in a series of incidents. “Gray Shelter” Korean Title: “회색기류” Cast: Lee Jae Bin, Jang Woo Young Premiere Date: April 11 Broadcast Details: all episodes released simultaneously at 12 p.m. KST “Gray Shelter” is a BL drama about Cha Soo Hyuk (Jang Woo Young), living day by day without major aspirations, who reunites with his past friend Lee Yoon Dae (Lee Jae Bin), who has nowhere to go after breaking up with his girlfriend. “ Missing Crown Prince ” Korean Title: “세자가 사라졌다” Cast: Suho , Hong Ye Ji , Myung Se Bin , Kim Joo Hun , Kim Min Kyu Premiere Date: April 13 Broadcast Details: Saturdays and Sundays at 9:40 p.m. KST on MBN, available on Viki A spin-off of “ Bossam: Steal the Fate ,” “Missing Crown Prince” is a romantic comedy set in the Joseon era about a crown prince who is kidnapped by the woman who is set to become his wife. While on the run for their lives, romance winds up blossoming between them. Watch “Missing Crown Prince”: Watch Now “Chief Detective 1958” Korean Title: “수사반장 1958” Cast: Lee Je Hoon , Lee Dong Hwi , Choi Woo Sung, Yoon Hyun Soo , Seo Eun Soo Premiere Date: April 19 Broadcast Details: Fridays and Saturdays at 9:50 p.m. KST on MBC “Chief Detective 1958” serves as a prequel to the classic Korean series “Chief Inspector,” which ran for 18 years from 1971 to 1989.  While the original show was set in the 1970s and 1980s (present day at the time), “Chief Detective 1958” will be set even earlier, in 1958. “ Boys Be Brave! ” Korean Title: “고백을 못하고” Cast: Kim Sung Hyen , Nam Si An , Jung Yeo Jun , Ahn Se Min Premiere Date: April 25 Broadcast Details: Thursdays at 12 p.m. KST, available on Viki Based on a popular webtoon, “Boys Be Brave!” is a BL rom-com that follows the story that unfolds when Jung Ki Sub (Nam Si An) begins to unexpectedly live at Kim Jin Woo’s (Kim Sung Hyen’s) house. Watch “Boys Be Brave!”: Watch Now “Goodbye Earth” Korean Title: “종말의 바보” Cast: Yoo Ah In , Ahn Eun Jin , Jeon Seong Woo , Kim Yoon Hye Premiere Date: April 26 Broadcast Details: all episodes released simultaneously at 4 p.m. KST on Netflix “Goodbye Earth” is a pre-apocalyptic drama about four individuals living out the chaotic final 200 days before an asteroid is scheduled to collide with Earth, showing how the individual characters spend the last days on the planet based on their respective beliefs. “ Under The Gun ” Korean Title: “언더 더 건” Cast: Zuho , Jo Soo Min , Seo Ji Won Premiere Date: April 29 Broadcast Details: all episodes released simultaneously, available on Viki “Under the Gun” is a noir romance drama about Go Geon (Zuho), the son of a professional Texas Hold ’em player, and Cha Se Young (Jo Soo Min), who dreamed of becoming a pianist before going to study abroad in the United States. Watch “Under the Gun”: Watch Now Vote in the poll above to share which K-dramas you’re watching in April! Please refresh the page if the poll does not load. Blood Free Boys Be Brave! Chief Detective 1958 Goodbye Earth Gray Shelter Love Is Like a Cat Lovely Runner Missing Crown Prince Parasyte: The Grey reunion counseling Soompi Spotlight Under the Gun How does this article make you feel? 5 0 0 0 0 Share it on Facebook Twitter Instagram Tiktok Comments Log in with Google Log in with Apple By creating an account, you agree with Soompi’s Terms of Use and Privacy Policy . Soompi is part of Rakuten Viki family. Please agree with our terms before creating the account. Please login to Soompi to join the conversation! Related Similar Articles Must Read FOLLOW US Facebook Instagram Twitter TikTok YouTube SITEMAP About Us Terms Of Use Privacy Policy Cookie Policy Copyright Policy Advertisement Info Site Guidelines Help Center Jobs LANGUAGE English Español © 1998 – 2024 Viki Inc. Soompi is part of the Rakuten Viki family. Submit News Tip\n",
      "Performed reason with args {'input_text': 'List of kdramas released in April 2024:\\n1. Love Is Like a Cat starring Mew Suppasit Jongcheveevat and JM\\n2. Parasyte: The Grey starring Jeon So Nee and Goo Kyo Hwan\\n3. Lovely Runner starring Byun Woo Seok and Kim Hye Yoon\\n4. Reunion Counseling starring Lee Jung Joon and Choi Hyo Zu\\n5. Blood Free starring Joo Ji Hoon and Han Hyo Joo\\n6. Gray Shelter starring Lee Jae Bin and Jang Woo Young\\n7. Missing Crown Prince starring Suho and Hong Ye Ji\\n8. Chief Detective 1958 starring Lee Je Hoon and Lee Dong Hwi\\n9. Boys Be Brave! starring Kim Sung Hyen and Nam Si An\\n10. Goodbye Earth starring Yoo Ah In and Ahn Eun Jin\\n11. Under The Gun starring Zuho and Jo Soo Min.\\nRemove any kdramas with graphic violence.'}.\n",
      "Result: 1. Love Is Like a Cat starring Mew Suppasit Jongcheveevat and JM\n",
      "2. Lovely Runner starring Byun Woo Seok and Kim Hye Yoon\n",
      "3. Reunion Counseling starring Lee Jung Joon and Choi Hyo Zu\n",
      "4. Missing Crown Prince starring Suho and Hong Ye Ji\n",
      "5. Chief Detective 1958 starring Lee Je Hoon and Lee Dong Hwi\n",
      "6. Boys Be Brave! starring Kim Sung Hyen and Nam Si An\n",
      "7. Goodbye Earth starring Yoo Ah In and Ahn Eun Jin\n"
     ]
    }
   ],
   "source": [
    "agent = PlannerAgent(name=\"kdrama search agent\",\n",
    "              brain=brain,\n",
    "              long_term_memory=[],\n",
    "              planner=planner)\n",
    "\n",
    "result = agent.act()"
   ]
  },
  {
   "cell_type": "code",
   "execution_count": 5,
   "metadata": {},
   "outputs": [
    {
     "name": "stdout",
     "output_type": "stream",
     "text": [
      "1. Love Is Like a Cat starring Mew Suppasit Jongcheveevat and JM\n",
      "2. Lovely Runner starring Byun Woo Seok and Kim Hye Yoon\n",
      "3. Reunion Counseling starring Lee Jung Joon and Choi Hyo Zu\n",
      "4. Missing Crown Prince starring Suho and Hong Ye Ji\n",
      "5. Chief Detective 1958 starring Lee Je Hoon and Lee Dong Hwi\n",
      "6. Boys Be Brave! starring Kim Sung Hyen and Nam Si An\n",
      "7. Goodbye Earth starring Yoo Ah In and Ahn Eun Jin\n"
     ]
    }
   ],
   "source": [
    "\n",
    "print(result)"
   ]
  }
 ],
 "metadata": {
  "kernelspec": {
   "display_name": "base",
   "language": "python",
   "name": "python3"
  },
  "language_info": {
   "codemirror_mode": {
    "name": "ipython",
    "version": 3
   },
   "file_extension": ".py",
   "mimetype": "text/x-python",
   "name": "python",
   "nbconvert_exporter": "python",
   "pygments_lexer": "ipython3",
   "version": "3.10.9"
  }
 },
 "nbformat": 4,
 "nbformat_minor": 2
}
