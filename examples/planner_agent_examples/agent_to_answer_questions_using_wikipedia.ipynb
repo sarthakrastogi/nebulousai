{
 "cells": [
  {
   "cell_type": "markdown",
   "metadata": {},
   "source": [
    "<a target=\"_blank\" href=\"https://colab.research.google.com/github/sarthakrastogi/nebulousai/blob/main/examples/planner_agent_examples/agent_to_answer_questions_using_wikipedia.ipynb\">\n",
    "  <img src=\"https://colab.research.google.com/assets/colab-badge.svg\" alt=\"Open In Colab\"/>\n",
    "</a>"
   ]
  },
  {
   "cell_type": "code",
   "execution_count": 1,
   "metadata": {},
   "outputs": [],
   "source": [
    "from nebulousai.core.brain import Brain\n",
    "from nebulousai.core.planning import Planner\n",
    "\n",
    "from nebulousai.agent import PlannerAgent\n",
    "from nebulousai.all_tools import *"
   ]
  },
  {
   "cell_type": "code",
   "execution_count": 2,
   "metadata": {},
   "outputs": [],
   "source": [
    "brain_system_prompt = \"\"\"Answer questions by using Wikipedia as a source.\"\"\"\n",
    "brain = Brain(brain_system_prompt=brain_system_prompt)\n",
    "planner = Planner(agent_goal=\"find obama's hobbies\")"
   ]
  },
  {
   "cell_type": "code",
   "execution_count": 3,
   "metadata": {},
   "outputs": [
    {
     "name": "stdout",
     "output_type": "stream",
     "text": [
      "{'tool_name': 'Wikipedia Search', 'arguments': {'search_term': 'Barack Obama'}}\n",
      "Performed 'search_wikipedia'.\n",
      "Result: Barack Hussein Obama II (born August 4, 1961) is an American politician who served as the 44th president of the United States from 2009 to 2017. A member of the Democratic Party, he was the first African-American  president in United States history. Obama previously served as a U.S. senator representing Illinois from 2005 to 2008, as an Illinois state senator from 1997 to 2004, and as a community service organizer, civil rights lawyer, and university lecturer. \n",
      "Obama was born in Honolulu, Hawaii. He graduated from Columbia University in 1983 with a B.A. in political science and later worked as a community organizer in Chicago. In 1988, Obama enrolled in Harvard Law School, where he was the first black president of the Harvard Law Review. He became a civil rights attorney and an academic, teaching constitutional law at the University of Chicago Law School from 1992 to 2004. He also went into elective politics; Obama represented the 13th district in the Illinois Senate from 1997 until 2004, when he successfully ran for the U.S. Senate. In 2008, after a close primary campaign against Hillary Clinton, he was nominated by the Democratic Party for president and chose Delaware Senator Joe Biden as his running mate. Obama was elected president, defeating Republican Party nominee John McCain in the presidential election and was inaugurated on January 20, 2009. Nine months later he was named the 2009 Nobel Peace Prize laureate, a decision that drew a mixture of criticism and praise.\n",
      "Obama's first-term actions addressed the global financial crisis and included a major stimulus package to guide the economy in recovering from the Great Recession, a partial extension of George W. Bush's tax cuts, legislation to reform health care, a major financial regulation reform bill, and the end of a major U.S. military presence in Iraq. Obama also appointed Supreme Court justices Sonia Sotomayor and Elena Kagan, the former being the first Hispanic American on the Supreme Court. He ordered the counterterrorism raid which killed Osama bin Laden and downplayed Bush's counterinsurgency model, expanding air strikes and making extensive use of special forces, while encouraging greater reliance on host-government militaries. Obama also ordered military involvement in Libya in order to implement UN Security Council Resolution 1973, contributing to the overthrow of Muammar Gaddafi.\n",
      "After winning re-election by defeating Republican opponent Mitt Romney, Obama was sworn in for a second term on January 20, 2013. In his second term, Obama took steps to combat climate change, signing a major international climate agreement and an executive order to limit carbon emissions. Obama also presided over the implementation of the Affordable Care Act and other legislation passed in his first term. He negotiated a nuclear agreement with Iran and normalized relations with Cuba. The number of American soldiers in Afghanistan fell dramatically during Obama's second term, though U.S. soldiers remained in the country throughout Obama's presidency. Obama promoted inclusion for LGBT Americans, and during his presidency the Supreme Court struck down same-sex marriage bans as unconstitutional in Obergefell v. Hodges.\n",
      "Obama left office on January 20, 2017, and continues to reside in Washington, D.C. His presidential library in Chicago began construction in 2021. Since leaving office, Obama has remained very active in Democratic politics, campaigning for candidates in various American elections, such as his former vice president Joe Biden in his successful bid for president in 2020. Outside of politics, Obama has published three bestselling books: Dreams from My Father (1995), The Audacity of Hope (2006), and A Promised Land (2020). Rankings by scholars and historians, in which he has been featured since 2010, place him in the middle to upper tier of American presidents. He has been described as one of the most effective campaigners in American history (his 2008 campaign being highlighted as particularly successful and aspirational) as well as one of the most talented political orators of the 21st century.\n",
      "{'tool_name': 'Reason', 'arguments': {'input_text': 'What hobbies does Barack Obama enjoy?'}}\n",
      "Performed 'reason'.\n",
      "Result: Some of Barack Obama's favorite hobbies include playing basketball, reading, writing, and spending time outdoors. He is also known to be a fan of music and enjoys playing the guitar. Additionally, he has been seen golfing and has a passion for cooking and trying new foods.\n"
     ]
    }
   ],
   "source": [
    "agent = PlannerAgent(name=\"wiki_agent\",\n",
    "              brain=brain,\n",
    "              planner=planner)\n",
    "\n",
    "agent.add_tool(searchWikipediaTool)\n",
    "\n",
    "result = agent.act()"
   ]
  },
  {
   "cell_type": "code",
   "execution_count": 4,
   "metadata": {},
   "outputs": [
    {
     "name": "stdout",
     "output_type": "stream",
     "text": [
      "Some of Barack Obama's favorite hobbies include playing basketball, reading, writing, and spending time outdoors. He is also known to be a fan of music and enjoys playing the guitar. Additionally, he has been seen golfing and has a passion for cooking and trying new foods.\n"
     ]
    }
   ],
   "source": [
    "print(result)"
   ]
  },
  {
   "cell_type": "markdown",
   "metadata": {},
   "source": [
    "Or, explicitly define a plan for the agent:"
   ]
  },
  {
   "cell_type": "code",
   "execution_count": 5,
   "metadata": {},
   "outputs": [
    {
     "name": "stdout",
     "output_type": "stream",
     "text": [
      "GOT ['first search wikipedia for obama', 'then find his hobbies from the text'] find obama's hobbies\n",
      "CREATED PLANNER ['first search wikipedia for obama', 'then find his hobbies from the text'] find obama's hobbies\n",
      "{'tool_name': 'Wikipedia Search', 'arguments': {'search_term': 'Obama'}}\n",
      "Performed 'search_wikipedia'.\n",
      "Result: Barack Hussein Obama II (born August 4, 1961) is an American politician who served as the 44th president of the United States from 2009 to 2017. A member of the Democratic Party, he was the first African-American  president in United States history. Obama previously served as a U.S. senator representing Illinois from 2005 to 2008, as an Illinois state senator from 1997 to 2004, and as a community service organizer, civil rights lawyer, and university lecturer. \n",
      "Obama was born in Honolulu, Hawaii. He graduated from Columbia University in 1983 with a B.A. in political science and later worked as a community organizer in Chicago. In 1988, Obama enrolled in Harvard Law School, where he was the first black president of the Harvard Law Review. He became a civil rights attorney and an academic, teaching constitutional law at the University of Chicago Law School from 1992 to 2004. He also went into elective politics; Obama represented the 13th district in the Illinois Senate from 1997 until 2004, when he successfully ran for the U.S. Senate. In 2008, after a close primary campaign against Hillary Clinton, he was nominated by the Democratic Party for president and chose Delaware Senator Joe Biden as his running mate. Obama was elected president, defeating Republican Party nominee John McCain in the presidential election and was inaugurated on January 20, 2009. Nine months later he was named the 2009 Nobel Peace Prize laureate, a decision that drew a mixture of criticism and praise.\n",
      "Obama's first-term actions addressed the global financial crisis and included a major stimulus package to guide the economy in recovering from the Great Recession, a partial extension of George W. Bush's tax cuts, legislation to reform health care, a major financial regulation reform bill, and the end of a major U.S. military presence in Iraq. Obama also appointed Supreme Court justices Sonia Sotomayor and Elena Kagan, the former being the first Hispanic American on the Supreme Court. He ordered the counterterrorism raid which killed Osama bin Laden and downplayed Bush's counterinsurgency model, expanding air strikes and making extensive use of special forces, while encouraging greater reliance on host-government militaries. Obama also ordered military involvement in Libya in order to implement UN Security Council Resolution 1973, contributing to the overthrow of Muammar Gaddafi.\n",
      "After winning re-election by defeating Republican opponent Mitt Romney, Obama was sworn in for a second term on January 20, 2013. In his second term, Obama took steps to combat climate change, signing a major international climate agreement and an executive order to limit carbon emissions. Obama also presided over the implementation of the Affordable Care Act and other legislation passed in his first term. He negotiated a nuclear agreement with Iran and normalized relations with Cuba. The number of American soldiers in Afghanistan fell dramatically during Obama's second term, though U.S. soldiers remained in the country throughout Obama's presidency. Obama promoted inclusion for LGBT Americans, and during his presidency the Supreme Court struck down same-sex marriage bans as unconstitutional in Obergefell v. Hodges.\n",
      "Obama left office on January 20, 2017, and continues to reside in Washington, D.C. His presidential library in Chicago began construction in 2021. Since leaving office, Obama has remained very active in Democratic politics, campaigning for candidates in various American elections, such as his former vice president Joe Biden in his successful bid for president in 2020. Outside of politics, Obama has published three bestselling books: Dreams from My Father (1995), The Audacity of Hope (2006), and A Promised Land (2020). Rankings by scholars and historians, in which he has been featured since 2010, place him in the middle to upper tier of American presidents. He has been described as one of the most effective campaigners in American history (his 2008 campaign being highlighted as particularly successful and aspirational) as well as one of the most talented political orators of the 21st century.\n",
      "{'tool_name': 'Reason', 'arguments': {'input_text': \"What are Barack Obama's hobbies?\"}}\n",
      "Performed 'reason'.\n",
      "Result: Barack Obama's hobbies include playing basketball, reading, writing, and spending time with his family. He is also known to enjoy playing golf and listening to music.\n"
     ]
    }
   ],
   "source": [
    "agent = PlannerAgent(name=\"wiki_agent\",\n",
    "                    brain=brain,\n",
    "                    task=\"find obama's hobbies\",\n",
    "                    plan_steps=[\"first search wikipedia for obama\", \"then find his hobbies from the text\"])\n",
    "\n",
    "agent.add_tool(searchWikipediaTool)\n",
    "\n",
    "result = agent.act()"
   ]
  },
  {
   "cell_type": "code",
   "execution_count": 6,
   "metadata": {},
   "outputs": [
    {
     "name": "stdout",
     "output_type": "stream",
     "text": [
      "Barack Obama's hobbies include playing basketball, reading, writing, and spending time with his family. He is also known to enjoy playing golf and listening to music.\n"
     ]
    }
   ],
   "source": [
    "\n",
    "print(result)"
   ]
  }
 ],
 "metadata": {
  "kernelspec": {
   "display_name": "base",
   "language": "python",
   "name": "python3"
  },
  "language_info": {
   "codemirror_mode": {
    "name": "ipython",
    "version": 3
   },
   "file_extension": ".py",
   "mimetype": "text/x-python",
   "name": "python",
   "nbconvert_exporter": "python",
   "pygments_lexer": "ipython3",
   "version": "3.10.9"
  }
 },
 "nbformat": 4,
 "nbformat_minor": 2
}
